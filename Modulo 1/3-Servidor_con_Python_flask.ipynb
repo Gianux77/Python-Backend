{
 "cells": [
  {
   "cell_type": "markdown",
   "metadata": {},
   "source": [
    "_WSGI(web server gateway interface)\n",
    "\n",
    "es una interfaz para crear applicaciones con python.\n",
    "y puedan ejecutarse en un servidor web.\n",
    " sirve para comunicar nuestra aplicacion con el servidor.\n",
    "\n",
    " sirve como un puente ejemplo: sistema operativo > kernel > hardware.\n",
    "\n",
    " \n"
   ]
  },
  {
   "cell_type": "markdown",
   "metadata": {},
   "source": [
    "FUNCION make_server\n",
    "\n",
    "_DIRECCION IP\n",
    "\n",
    "_PUERTO\n",
    "\n",
    "_APLICACION\n",
    "\n",
    "NUMERO DE PUERTOS\n",
    "\n",
    "-puertos totales: 65,535(2**16)\n",
    "\n",
    "-puerto no disponible: 1023(2**10)\n",
    "\n",
    "-ejemplo de puertos 8000-6000-5000\n",
    "\n"
   ]
  },
  {
   "cell_type": "markdown",
   "metadata": {},
   "source": [
    "QUE SON LOS TEMPLETES\n",
    "\n",
    "son archivos que modifican cuando nosotros queramos."
   ]
  }
 ],
 "metadata": {
  "language_info": {
   "name": "python"
  }
 },
 "nbformat": 4,
 "nbformat_minor": 2
}
