{
 "cells": [
  {
   "cell_type": "code",
   "execution_count": 2,
   "metadata": {},
   "outputs": [
    {
     "data": {
      "text/plain": [
       "15"
      ]
     },
     "execution_count": 2,
     "metadata": {},
     "output_type": "execute_result"
    }
   ],
   "source": [
    "# Como trabajan las funciones...\n",
    "\"\"\" las funciones son muy importantes en\n",
    "Python y estas retornan un valor de acuerdo\n",
    "a los argumentos que le pasamos:\n",
    "\n",
    "-> Asignando funciones a variables\n",
    "-> Definiendo funciones dentro de otras funciones\n",
    "-> Pasando funciones como argumentos de otras funciones\n",
    "-> funciones retornando otras funciones\"\"\"\n",
    "\n",
    "def plus_one(number):\n",
    "    return number + 1\n",
    "\n",
    "plus_one(14)"
   ]
  },
  {
   "cell_type": "code",
   "execution_count": 3,
   "metadata": {},
   "outputs": [
    {
     "data": {
      "text/plain": [
       "10"
      ]
     },
     "execution_count": 3,
     "metadata": {},
     "output_type": "execute_result"
    }
   ],
   "source": [
    "# ASIGNACION  FUNCIONES A LAS VARIABLES\n",
    "\n",
    "def plus_one(number):\n",
    "    return number + 1\n",
    "\n",
    "add_one = plus_one                  #creamos una variable, le asignamos una funcion.\n",
    "add_one(9)                          #llamamos a la variable como si fuera una funcion.\n"
   ]
  },
  {
   "cell_type": "code",
   "execution_count": 1,
   "metadata": {},
   "outputs": [
    {
     "name": "stdout",
     "output_type": "stream",
     "text": [
      "Executing plus_one\n",
      "Executing add_one\n"
     ]
    },
    {
     "data": {
      "text/plain": [
       "7"
      ]
     },
     "execution_count": 1,
     "metadata": {},
     "output_type": "execute_result"
    }
   ],
   "source": [
    "# DEFINIENDO FUNCIONES DENTRO DE OTRAS FUNCIONES\n",
    "\n",
    "def plus_one(number):\n",
    "    def add_one(number):\n",
    "        print(\"Executing add_one\")        #SE EJECUTA POS SEGUNDO ADD_ONE\n",
    "        return number + 1\n",
    "    \n",
    "    print(\"Executing plus_one\")           # SE EJECUTA PRIMERO PLUS_ONE\n",
    "    result = add_one(number)\n",
    "    return result\n",
    "\n",
    "plus_one(6)"
   ]
  },
  {
   "cell_type": "code",
   "execution_count": 2,
   "metadata": {},
   "outputs": [
    {
     "name": "stdout",
     "output_type": "stream",
     "text": [
      "Executing function_call\n",
      "Executing plus_one\n"
     ]
    },
    {
     "data": {
      "text/plain": [
       "6"
      ]
     },
     "execution_count": 2,
     "metadata": {},
     "output_type": "execute_result"
    }
   ],
   "source": [
    "#PASANDO FUNCIONES COMO ARGUMENTOS DE OTRAS FUNCIONES\n",
    "\n",
    "def plus_one(number):\n",
    "    print(\"Executing plus_one\")\n",
    "    return number + 1\n",
    "\n",
    "def function_call(function):\n",
    "    print(\"Executing function_call\")\n",
    "    number_to_add = 5\n",
    "    return function(number_to_add)      # se refiere al argumento function_call, que es una funcion y se ejecuta\n",
    "\n",
    "function_call(plus_one)\n"
   ]
  },
  {
   "cell_type": "code",
   "execution_count": 3,
   "metadata": {},
   "outputs": [
    {
     "name": "stdout",
     "output_type": "stream",
     "text": [
      "Executing hello_function\n",
      "Executing say_hi\n"
     ]
    },
    {
     "data": {
      "text/plain": [
       "'hi'"
      ]
     },
     "execution_count": 3,
     "metadata": {},
     "output_type": "execute_result"
    }
   ],
   "source": [
    "# FUNCIONES RETORNANDO OTRAS FUNCIONES\n",
    "\n",
    "def hello_function():\n",
    "    def say_hi():\n",
    "        print(\"Executing say_hi\")\n",
    "        return \"hi\"\n",
    "    print(\"Executing hello_function\")\n",
    "    return say_hi\n",
    "\n",
    "hello = hello_function()\n",
    "hello()"
   ]
  },
  {
   "cell_type": "code",
   "execution_count": 1,
   "metadata": {},
   "outputs": [
    {
     "name": "stdout",
     "output_type": "stream",
     "text": [
      "Some random message\n"
     ]
    }
   ],
   "source": [
    "# LAS FUNCIONES ANIDADAS TIENEN ACCESO AL LAS VARIABLES DE LA FUNCION\n",
    "# ENVOLVENTE\n",
    "\n",
    "def print_message(message):\n",
    "    \"Enclosong Function\"\n",
    "    def message_sender():\n",
    "        \"Nested Function\"\n",
    "        print(message)\n",
    "    message_sender()\n",
    "    \n",
    "print_message(\"Some random message\")\n"
   ]
  },
  {
   "cell_type": "markdown",
   "metadata": {},
   "source": [
    "¿QUE SON LOS DECORADORES?\n",
    "\n",
    "Son un patron de diseño en Python que permite agregar\n",
    "funcionalidades a un objeto existente (funciones) sin\n",
    "modificar su estructura."
   ]
  },
  {
   "cell_type": "code",
   "execution_count": 2,
   "metadata": {},
   "outputs": [
    {
     "name": "stdout",
     "output_type": "stream",
     "text": [
      "Something is happening before the function is called\n",
      "Whee!\n",
      "Something is happening after the function is called\n"
     ]
    }
   ],
   "source": [
    "# Creando decoradores\n",
    "\n",
    "def my_decorator(func):\n",
    "    def wrapper():\n",
    "        print(\"Something is happening before the function is called\")\n",
    "        func()\n",
    "        print(\"Something is happening after the function is called\")\n",
    "    return wrapper\n",
    "\n",
    "def say_whee():\n",
    "    print(\"Whee!\")\n",
    "    \n",
    "say_whee = my_decorator(say_whee)\n",
    "say_whee()\n",
    "\n",
    "# USAR ESTO NO ES TAN OPTIMO"
   ]
  },
  {
   "cell_type": "code",
   "execution_count": 3,
   "metadata": {},
   "outputs": [
    {
     "name": "stdout",
     "output_type": "stream",
     "text": [
      "Something is happening before the function is called\n",
      "Whee!\n",
      "Something is happening after the function is called\n"
     ]
    }
   ],
   "source": [
    "# USANDO ARROBA\n",
    "def my_decorator(func):\n",
    "    def wrapper():\n",
    "        print(\"Something is happening before the function is called\")\n",
    "        func()\n",
    "        print(\"Something is happening after the function is called\")\n",
    "    return wrapper\n",
    "\n",
    "@my_decorator                # usar este metodo es mas eficiente y nos ahorramos codigo\n",
    "def say_whee():\n",
    "    print(\"Whee!\")\n",
    "    \n",
    "say_whee()"
   ]
  },
  {
   "cell_type": "code",
   "execution_count": 7,
   "metadata": {},
   "outputs": [
    {
     "name": "stdout",
     "output_type": "stream",
     "text": [
      "split\n",
      "uppercase\n"
     ]
    },
    {
     "data": {
      "text/plain": [
       "['HELLO', 'THERE']"
      ]
     },
     "execution_count": 7,
     "metadata": {},
     "output_type": "execute_result"
    }
   ],
   "source": [
    "# Applicando multiples decoradores a una misma funcion\n",
    "\n",
    "def uppercase_decorator(function):\n",
    "    def wrapper():\n",
    "        print(\"uppercase\")\n",
    "        func = function()\n",
    "        make_uppercase = func.upper()\n",
    "        return make_uppercase\n",
    "    \n",
    "    return wrapper \n",
    "\n",
    "def split_string(function):\n",
    "    def wrapper():\n",
    "        print(\"split\")\n",
    "        func = function()\n",
    "        splitted_string = func.split()\n",
    "        return splitted_string\n",
    "    \n",
    "    return wrapper\n",
    "\n",
    "\n",
    "@split_string\n",
    "@uppercase_decorator\n",
    "def say_hi():\n",
    "    return \"hello there\"\n",
    "    \n",
    "say_hi()"
   ]
  }
 ],
 "metadata": {
  "kernelspec": {
   "display_name": "Python 3",
   "language": "python",
   "name": "python3"
  },
  "language_info": {
   "codemirror_mode": {
    "name": "ipython",
    "version": 3
   },
   "file_extension": ".py",
   "mimetype": "text/x-python",
   "name": "python",
   "nbconvert_exporter": "python",
   "pygments_lexer": "ipython3",
   "version": "3.11.2"
  },
  "orig_nbformat": 4
 },
 "nbformat": 4,
 "nbformat_minor": 2
}
