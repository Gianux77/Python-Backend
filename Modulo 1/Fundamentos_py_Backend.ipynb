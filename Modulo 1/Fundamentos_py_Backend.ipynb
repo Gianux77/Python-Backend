{
 "cells": [
  {
   "cell_type": "code",
   "execution_count": 2,
   "metadata": {},
   "outputs": [
    {
     "data": {
      "text/plain": [
       "15"
      ]
     },
     "execution_count": 2,
     "metadata": {},
     "output_type": "execute_result"
    }
   ],
   "source": [
    "# Como trabajan las funciones...\n",
    "\"\"\" las funciones son muy importantes en\n",
    "Python y estas retornan un valor de acuerdo\n",
    "a los argumentos que le pasamos:\n",
    "\n",
    "-> Asignando funciones a variables\n",
    "-> Definiendo funciones dentro de otras funciones\n",
    "-> Pasando funciones como argumentos de otras funciones\n",
    "-> funciones retornando otras funciones\"\"\"\n",
    "\n",
    "def plus_one(number):\n",
    "    return number + 1\n",
    "\n",
    "plus_one(14)"
   ]
  },
  {
   "cell_type": "code",
   "execution_count": 3,
   "metadata": {},
   "outputs": [
    {
     "data": {
      "text/plain": [
       "10"
      ]
     },
     "execution_count": 3,
     "metadata": {},
     "output_type": "execute_result"
    }
   ],
   "source": [
    "# ASIGNACION  FUNCIONES A LAS VARIABLES\n",
    "\n",
    "def plus_one(number):\n",
    "    return number + 1\n",
    "\n",
    "add_one = plus_one                  #creamos una variable, le asignamos una funcion.\n",
    "add_one(9)                          #llamamos a la variable como si fuera una funcion.\n"
   ]
  },
  {
   "cell_type": "code",
   "execution_count": 1,
   "metadata": {},
   "outputs": [
    {
     "name": "stdout",
     "output_type": "stream",
     "text": [
      "Executing plus_one\n",
      "Executing add_one\n"
     ]
    },
    {
     "data": {
      "text/plain": [
       "7"
      ]
     },
     "execution_count": 1,
     "metadata": {},
     "output_type": "execute_result"
    }
   ],
   "source": [
    "# DEFINIENDO FUNCIONES DENTRO DE OTRAS FUNCIONES\n",
    "\n",
    "def plus_one(number):\n",
    "    def add_one(number):\n",
    "        print(\"Executing add_one\")        #SE EJECUTA POS SEGUNDO ADD_ONE\n",
    "        return number + 1\n",
    "    \n",
    "    print(\"Executing plus_one\")           # SE EJECUTA PRIMERO PLUS_ONE\n",
    "    result = add_one(number)\n",
    "    return result\n",
    "\n",
    "plus_one(6)"
   ]
  },
  {
   "cell_type": "code",
   "execution_count": 2,
   "metadata": {},
   "outputs": [
    {
     "name": "stdout",
     "output_type": "stream",
     "text": [
      "Executing function_call\n",
      "Executing plus_one\n"
     ]
    },
    {
     "data": {
      "text/plain": [
       "6"
      ]
     },
     "execution_count": 2,
     "metadata": {},
     "output_type": "execute_result"
    }
   ],
   "source": [
    "#PASANDO FUNCIONES COMO ARGUMENTOS DE OTRAS FUNCIONES\n",
    "\n",
    "def plus_one(number):\n",
    "    print(\"Executing plus_one\")\n",
    "    return number + 1\n",
    "\n",
    "def function_call(function):\n",
    "    print(\"Executing function_call\")\n",
    "    number_to_add = 5\n",
    "    return function(number_to_add)      # se refiere al argumento function_call, que es una funcion y se ejecuta\n",
    "\n",
    "function_call(plus_one)\n"
   ]
  },
  {
   "cell_type": "code",
   "execution_count": 1,
   "metadata": {},
   "outputs": [
    {
     "name": "stdout",
     "output_type": "stream",
     "text": [
      "Executing hello_function\n",
      "Executing say_hi\n"
     ]
    },
    {
     "data": {
      "text/plain": [
       "'hi'"
      ]
     },
     "execution_count": 1,
     "metadata": {},
     "output_type": "execute_result"
    }
   ],
   "source": [
    "# FUNCIONES RETORNANDO OTRAS FUNCIONES\n",
    "\n",
    "def hello_function():\n",
    "    def say_hi():\n",
    "        print(\"Executing say_hi\")\n",
    "        return \"hi\"\n",
    "    print(\"Executing hello_function\")\n",
    "    return say_hi\n",
    "\n",
    "hello = hello_function()\n",
    "hello()"
   ]
  },
  {
   "cell_type": "code",
   "execution_count": 1,
   "metadata": {},
   "outputs": [
    {
     "name": "stdout",
     "output_type": "stream",
     "text": [
      "Some random message\n"
     ]
    }
   ],
   "source": [
    "# LAS FUNCIONES ANIDADAS TIENEN ACCESO AL LAS VARIABLES DE LA FUNCION\n",
    "# ENVOLVENTE\n",
    "\n",
    "def print_message(message):\n",
    "    \"Enclosong Function\"\n",
    "    def message_sender():\n",
    "        \"Nested Function\"\n",
    "        print(message)\n",
    "    message_sender()\n",
    "    \n",
    "print_message(\"Some random message\")\n"
   ]
  },
  {
   "cell_type": "markdown",
   "metadata": {},
   "source": [
    "¿QUE SON LOS DECORADORES?\n",
    "\n",
    "Son un patron de diseño en Python que permite agregar\n",
    "funcionalidades a un objeto existente (funciones) sin\n",
    "modificar su estructura."
   ]
  },
  {
   "cell_type": "code",
   "execution_count": 2,
   "metadata": {},
   "outputs": [
    {
     "name": "stdout",
     "output_type": "stream",
     "text": [
      "Something is happening before the function is called\n",
      "Whee!\n",
      "Something is happening after the function is called\n"
     ]
    }
   ],
   "source": [
    "# Creando decoradores\n",
    "\n",
    "def my_decorator(func):\n",
    "    def wrapper():\n",
    "        print(\"Something is happening before the function is called\")\n",
    "        func()\n",
    "        print(\"Something is happening after the function is called\")\n",
    "    return wrapper\n",
    "\n",
    "def say_whee():\n",
    "    print(\"Whee!\")\n",
    "    \n",
    "say_whee = my_decorator(say_whee)\n",
    "say_whee()\n",
    "\n",
    "# USAR ESTO NO ES TAN OPTIMO"
   ]
  },
  {
   "cell_type": "code",
   "execution_count": 3,
   "metadata": {},
   "outputs": [
    {
     "name": "stdout",
     "output_type": "stream",
     "text": [
      "Something is happening before the function is called\n",
      "Whee!\n",
      "Something is happening after the function is called\n"
     ]
    }
   ],
   "source": [
    "# USANDO ARROBA\n",
    "def my_decorator(func):\n",
    "    def wrapper():\n",
    "        print(\"Something is happening before the function is called\")\n",
    "        func()\n",
    "        print(\"Something is happening after the function is called\")\n",
    "    return wrapper\n",
    "\n",
    "@my_decorator                # usar este metodo es mas eficiente y nos ahorramos codigo\n",
    "def say_whee():\n",
    "    print(\"Whee!\")\n",
    "    \n",
    "say_whee()"
   ]
  },
  {
   "cell_type": "code",
   "execution_count": 7,
   "metadata": {},
   "outputs": [
    {
     "name": "stdout",
     "output_type": "stream",
     "text": [
      "split\n",
      "uppercase\n"
     ]
    },
    {
     "data": {
      "text/plain": [
       "['HELLO', 'THERE']"
      ]
     },
     "execution_count": 7,
     "metadata": {},
     "output_type": "execute_result"
    }
   ],
   "source": [
    "# Applicando multiples decoradores a una misma funcion\n",
    "\n",
    "def uppercase_decorator(function):\n",
    "    def wrapper():\n",
    "        print(\"uppercase\")\n",
    "        func = function()\n",
    "        make_uppercase = func.upper()\n",
    "        return make_uppercase\n",
    "    \n",
    "    return wrapper \n",
    "\n",
    "def split_string(function):\n",
    "    def wrapper():\n",
    "        print(\"split\")\n",
    "        func = function()\n",
    "        splitted_string = func.split()\n",
    "        return splitted_string\n",
    "    \n",
    "    return wrapper\n",
    "\n",
    "\n",
    "@split_string\n",
    "@uppercase_decorator\n",
    "def say_hi():\n",
    "    return \"hello there\"\n",
    "    \n",
    "say_hi()"
   ]
  },
  {
   "cell_type": "code",
   "execution_count": 8,
   "metadata": {},
   "outputs": [
    {
     "name": "stdout",
     "output_type": "stream",
     "text": [
      "My arguments are: Pereira, Medellín\n",
      "Cities I love are Pereira and Medellín\n"
     ]
    }
   ],
   "source": [
    "#DECORANDO FUNCIONES CON ARGUMENTOS\n",
    "\n",
    "def decorator_with_arguments(function):\n",
    "    def wrapper_accepting_arguments(arg1, arg2):\n",
    "        print(f\"My arguments are: {arg1}, {arg2}\")\n",
    "        function(arg1, arg2)\n",
    "    return wrapper_accepting_arguments\n",
    "\n",
    "\n",
    "@decorator_with_arguments\n",
    "def cities(city_one, city_two):\n",
    "    print(f\"Cities I love are {city_one} and {city_two}\")\n",
    "\n",
    "cities(\"Pereira\", \"Medellín\")"
   ]
  },
  {
   "cell_type": "code",
   "execution_count": 1,
   "metadata": {},
   "outputs": [
    {
     "name": "stdout",
     "output_type": "stream",
     "text": [
      "The positional arguments are (1, 2, 3)\n",
      "The keyword arguments are {}\n",
      "1 2 3\n"
     ]
    }
   ],
   "source": [
    "# Definiendo generadores de propósito general\n",
    "def a_decorator_passing_arbitrary_arguments(function_to_decorate):\n",
    "    def a_wrapper_accepting_arbitrary_arguments(*args,**kwargs):    # *args = significa mandar el argumento por posicion\n",
    "        print('The positional arguments are', args)\n",
    "        print('The keyword arguments are', kwargs)\n",
    "        function_to_decorate(*args, **kwargs)\n",
    "    return a_wrapper_accepting_arbitrary_arguments\n",
    "\n",
    "@a_decorator_passing_arbitrary_arguments\n",
    "def function_with_arguments(a, b, c):\n",
    "    print(a, b, c)\n",
    "\n",
    "function_with_arguments(1,2,3)"
   ]
  },
  {
   "cell_type": "code",
   "execution_count": 2,
   "metadata": {},
   "outputs": [
    {
     "name": "stdout",
     "output_type": "stream",
     "text": [
      "The positional arguments are ()\n",
      "The keyword arguments are {'first_name': 'Derrick', 'last_name': 'Mwiti'}\n",
      "This has shown keyword arguments: \n",
      "first_name: Derrick\n",
      "last_name: Mwiti\n",
      "country: Colombia\n"
     ]
    }
   ],
   "source": [
    "#kwargs\n",
    "@a_decorator_passing_arbitrary_arguments\n",
    "def function_with_keyword_arguments(first_name=\"\", last_name=\"\", country=\"Colombia\"):\n",
    "    print(f\"This has shown keyword arguments: \")\n",
    "    print(f\"first_name: {first_name}\")\n",
    "    print(f\"last_name: {last_name}\")\n",
    "    print(f\"country: {country}\")\n",
    "\n",
    "function_with_keyword_arguments(first_name=\"Derrick\", last_name=\"Mwiti\")"
   ]
  },
  {
   "cell_type": "code",
   "execution_count": null,
   "metadata": {},
   "outputs": [],
   "source": []
  },
  {
   "cell_type": "code",
   "execution_count": 3,
   "metadata": {},
   "outputs": [
    {
     "name": "stdout",
     "output_type": "stream",
     "text": [
      "The wrapper can access all the variable\n",
      "\t- from the decorater maker: PandasNumpyScikit-learn\t- from the function call: Pandassciencietoolsand pass them to the decorated function\n",
      "This is the decorated function and it only knows about its arguments: \n",
      "Pandassciencietools\n"
     ]
    }
   ],
   "source": [
    "#####  PASANDO ARGUMENTO A MI DECORADOR ########\n",
    "def decorator_maker_with_arguments(dec_arg1, dec_arg2, dec_arg3):\n",
    "    def decorator(func):\n",
    "        def wrapper(func_arg1,func_arg2,func_arg3):\n",
    "            \"This is the wrapper function\"\n",
    "            print(f\"The wrapper can access all the variable\\n\"\n",
    "                f\"\\t- from the decorater maker: {dec_arg1}{dec_arg2}{dec_arg3}\"\n",
    "                f\"\\t- from the function call: {func_arg1}{func_arg2}{func_arg3}\"\n",
    "                f\"and pass them to the decorated function\")\n",
    "            return func(func_arg1, func_arg2, func_arg3)\n",
    "        \n",
    "        return wrapper\n",
    "    return decorator\n",
    "\n",
    "\n",
    "pandas = \"Pandas\"\n",
    "\n",
    "@decorator_maker_with_arguments(pandas, \"Numpy\", \"Scikit-learn\")\n",
    "def decorator_function_with_arguments(func_arg1, func_arg2, func_arg3):\n",
    "    print(\"This is the decorated function and it only knows about its arguments: \")\n",
    "    print(f\"{func_arg1}{func_arg2}{func_arg3}\")\n",
    "    \n",
    "decorator_function_with_arguments(pandas, \"sciencie\", \"tools\")\n",
    "        "
   ]
  },
  {
   "cell_type": "markdown",
   "metadata": {},
   "source": [
    "Funciones Lamdba\n",
    "\n",
    "Funciones anonimas y son funciones que pueden defenir cualquier numero de parametro pero una unica expresion.\n",
    "Esta expresion es evaluada y devuelta."
   ]
  },
  {
   "cell_type": "code",
   "execution_count": 1,
   "metadata": {},
   "outputs": [
    {
     "name": "stdout",
     "output_type": "stream",
     "text": [
      "16\n"
     ]
    }
   ],
   "source": [
    "## ejemplo\n",
    "\n",
    "cuadrado = lambda x: x**2\n",
    "\n",
    "print(cuadrado(4))"
   ]
  },
  {
   "cell_type": "code",
   "execution_count": 3,
   "metadata": {},
   "outputs": [
    {
     "name": "stdout",
     "output_type": "stream",
     "text": [
      "[1, 4, 16, 49]\n"
     ]
    }
   ],
   "source": [
    "## map() : en python aplica una funcion a cada uno de los elementos de una lista\n",
    "\n",
    "enteros = [1,2,4,7]\n",
    "cuadrados = []\n",
    "\n",
    "for e in enteros:\n",
    "    cuadrados.append(e ** 2)\n",
    "    \n",
    "print(cuadrados)"
   ]
  },
  {
   "cell_type": "code",
   "execution_count": 4,
   "metadata": {},
   "outputs": [
    {
     "name": "stdout",
     "output_type": "stream",
     "text": [
      "[1, 4, 16, 49]\n"
     ]
    }
   ],
   "source": [
    "## ejemplo con map() y lambda\n",
    "\n",
    "enteros = [1,2,4,7]\n",
    "cuadrados = list(map(lambda x: x ** 2, enteros))\n",
    "print(cuadrados)"
   ]
  }
 ],
 "metadata": {
  "kernelspec": {
   "display_name": "Python 3",
   "language": "python",
   "name": "python3"
  },
  "language_info": {
   "codemirror_mode": {
    "name": "ipython",
    "version": 3
   },
   "file_extension": ".py",
   "mimetype": "text/x-python",
   "name": "python",
   "nbconvert_exporter": "python",
   "pygments_lexer": "ipython3",
   "version": "3.11.2"
  },
  "orig_nbformat": 4
 },
 "nbformat": 4,
 "nbformat_minor": 2
}
