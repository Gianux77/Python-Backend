{
 "cells": [
  {
   "cell_type": "code",
   "execution_count": 2,
   "metadata": {},
   "outputs": [
    {
     "data": {
      "text/plain": [
       "15"
      ]
     },
     "execution_count": 2,
     "metadata": {},
     "output_type": "execute_result"
    }
   ],
   "source": [
    "# Como trabajan las funciones...\n",
    "\"\"\" las funciones son muy importantes en\n",
    "Python y estas retornan un valor de acuerdo\n",
    "a los argumentos que le pasamos:\n",
    "\n",
    "-> Asignando funciones a variables\n",
    "-> Definiendo funciones dentro de otras funciones\n",
    "-> Pasando funciones como argumentos de otras funciones\n",
    "-> funciones retornando otras funciones\"\"\"\n",
    "\n",
    "def plus_one(number):\n",
    "    return number + 1\n",
    "\n",
    "plus_one(14)"
   ]
  },
  {
   "cell_type": "code",
   "execution_count": 3,
   "metadata": {},
   "outputs": [
    {
     "data": {
      "text/plain": [
       "10"
      ]
     },
     "execution_count": 3,
     "metadata": {},
     "output_type": "execute_result"
    }
   ],
   "source": [
    "# ASIGNACION  FUNCIONES A LAS VARIABLES\n",
    "\n",
    "def plus_one(number):\n",
    "    return number + 1\n",
    "\n",
    "add_one = plus_one                  #creamos una variable, le asignamos una funcion.\n",
    "add_one(9)                          #llamamos a la variable como si fuera una funcion.\n"
   ]
  },
  {
   "cell_type": "code",
   "execution_count": 1,
   "metadata": {},
   "outputs": [
    {
     "name": "stdout",
     "output_type": "stream",
     "text": [
      "Executing plus_one\n",
      "Executing add_one\n"
     ]
    },
    {
     "data": {
      "text/plain": [
       "7"
      ]
     },
     "execution_count": 1,
     "metadata": {},
     "output_type": "execute_result"
    }
   ],
   "source": [
    "# DEFINIENDO FUNCIONES DENTRO DE OTRAS FUNCIONES\n",
    "\n",
    "def plus_one(number):\n",
    "    def add_one(number):\n",
    "        print(\"Executing add_one\")        #SE EJECUTA POS SEGUNDO ADD_ONE\n",
    "        return number + 1\n",
    "    \n",
    "    print(\"Executing plus_one\")           # SE EJECUTA PRIMERO PLUS_ONE\n",
    "    result = add_one(number)\n",
    "    return result\n",
    "\n",
    "plus_one(6)"
   ]
  },
  {
   "cell_type": "code",
   "execution_count": 2,
   "metadata": {},
   "outputs": [
    {
     "name": "stdout",
     "output_type": "stream",
     "text": [
      "Executing function_call\n",
      "Executing plus_one\n"
     ]
    },
    {
     "data": {
      "text/plain": [
       "6"
      ]
     },
     "execution_count": 2,
     "metadata": {},
     "output_type": "execute_result"
    }
   ],
   "source": [
    "#PASANDO FUNCIONES COMO ARGUMENTOS DE OTRAS FUNCIONES\n",
    "\n",
    "def plus_one(number):\n",
    "    print(\"Executing plus_one\")\n",
    "    return number + 1\n",
    "\n",
    "def function_call(function):\n",
    "    print(\"Executing function_call\")\n",
    "    number_to_add = 5\n",
    "    return function(number_to_add)      # se refiere al argumento function_call, que es una funcion y se ejecuta\n",
    "\n",
    "function_call(plus_one)\n"
   ]
  },
  {
   "cell_type": "code",
   "execution_count": 3,
   "metadata": {},
   "outputs": [
    {
     "name": "stdout",
     "output_type": "stream",
     "text": [
      "Executing hello_function\n",
      "Executing say_hi\n"
     ]
    },
    {
     "data": {
      "text/plain": [
       "'hi'"
      ]
     },
     "execution_count": 3,
     "metadata": {},
     "output_type": "execute_result"
    }
   ],
   "source": [
    "# FUNCIONES RETORNANDO OTRAS FUNCIONES\n",
    "\n",
    "def hello_function():\n",
    "    def say_hi():\n",
    "        print(\"Executing say_hi\")\n",
    "        return \"hi\"\n",
    "    print(\"Executing hello_function\")\n",
    "    return say_hi\n",
    "\n",
    "hello = hello_function()\n",
    "hello()"
   ]
  }
 ],
 "metadata": {
  "kernelspec": {
   "display_name": "Python 3",
   "language": "python",
   "name": "python3"
  },
  "language_info": {
   "codemirror_mode": {
    "name": "ipython",
    "version": 3
   },
   "file_extension": ".py",
   "mimetype": "text/x-python",
   "name": "python",
   "nbconvert_exporter": "python",
   "pygments_lexer": "ipython3",
   "version": "3.11.2"
  },
  "orig_nbformat": 4
 },
 "nbformat": 4,
 "nbformat_minor": 2
}
