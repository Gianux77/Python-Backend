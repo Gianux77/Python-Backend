{
 "cells": [
  {
   "cell_type": "code",
   "execution_count": 2,
   "metadata": {},
   "outputs": [
    {
     "data": {
      "text/plain": [
       "11"
      ]
     },
     "execution_count": 2,
     "metadata": {},
     "output_type": "execute_result"
    }
   ],
   "source": [
    "# Como trabajan las funciones...\n",
    "\"\"\" las funciones son muy importantes en\n",
    "Python y estas retornan un valor de acuerdo\n",
    "a los argumentos que le pasamos:\n",
    "\n",
    "-> Asignando funciones a variables\n",
    "-> Definiendo funciones dentro de otras funciones\n",
    "-> Pasando funciones como argumentos de otras funciones\n",
    "-> funciones retornando otras funciones\"\"\"\n",
    "\n",
    "def plus_one(number):\n",
    "    return number + 1\n",
    "\n",
    "plus_one(10)"
   ]
  }
 ],
 "metadata": {
  "kernelspec": {
   "display_name": "Python 3",
   "language": "python",
   "name": "python3"
  },
  "language_info": {
   "codemirror_mode": {
    "name": "ipython",
    "version": 3
   },
   "file_extension": ".py",
   "mimetype": "text/x-python",
   "name": "python",
   "nbconvert_exporter": "python",
   "pygments_lexer": "ipython3",
   "version": "3.11.2"
  },
  "orig_nbformat": 4
 },
 "nbformat": 4,
 "nbformat_minor": 2
}
