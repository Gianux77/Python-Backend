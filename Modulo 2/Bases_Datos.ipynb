{
 "cells": [
  {
   "cell_type": "markdown",
   "metadata": {},
   "source": [
    "¿ QUE SON LAS BASES DE DATOS ?\n",
    "\n",
    "una base de datos es una recopilacion organizada de informacion o datos estrucurados, que normalmene se almacena de forma electronica en un sisema informatico(servidor). Normalmente, una base de datos esta controlada por un sisema de gestion de bases de datos(DBMS).\n",
    "\n",
    "GESTORES MAS POPULARES\n",
    "\n",
    "- MySQL\n",
    "- SQLServer\n",
    "- PostgreSQL\n",
    "\n"
   ]
  },
  {
   "cell_type": "markdown",
   "metadata": {},
   "source": [
    "Comandos\n",
    "\n",
    "SHOW ;     -para ver lo que creo\n",
    "CREATE ;   -crea una bd\n",
    "SELECT ;   -seleccionar los bd\n",
    "USE;       -se dirige a tus bd\n",
    "TABLE;     -es una tabla de bd\n",
    "DESC ;     -decribe nuestra tabla\n",
    "DROP;      -para borrar\n",
    "SET @<NOMBRE>:= VALOR;\n"
   ]
  },
  {
   "cell_type": "markdown",
   "metadata": {},
   "source": [
    "COMO CREARLA\n",
    "\n",
    "- CREATE DATABASE <nombre>;\n",
    "\n",
    "- USE<db Name>\n",
    "\n",
    "- CREATE TABLE <table name>(\n",
    "    --Colums\n",
    ");\n",
    "\n",
    "SELECT * (o nombre) FROM users;  --- obtener todas las columnas de users.\n",
    "SELECT * FROM users \\G; --- obtener todas las columnas de users, pero te muestra de otra forma la informacion.\n",
    "\n"
   ]
  },
  {
   "cell_type": "markdown",
   "metadata": {},
   "source": [
    "Constraints\n",
    "\n",
    "-son reglas establecidas para cada una de las columnas de una tabla.\n",
    "\n",
    "-NOT NULL\n",
    "\n",
    "-UNIQUE : NO ALMACENAR VALORES REPETIDOS\n",
    "\n",
    "-PRIMARY KEY: LLAVE PRIMARIA, NO HAYA VALORES REPETIDOS\n",
    "\n",
    "-DEFAULT : valor por defecto.\n",
    "\n",
    "-USINGNED\n",
    "\n",
    "-ENUMS!"
   ]
  },
  {
   "cell_type": "markdown",
   "metadata": {},
   "source": [
    "¿ QUE ES LA NORMALIZACION DE BASE DE DATOS ?\n",
    "\n",
    "son tecnicas que permiten organizar la informacion de nuestra tablas. Pudiendo asi evitar redundancia de datos, simplificar la actualizacion de datos y garantizar la integridad de los datos.\n",
    "\n",
    "¿ QUE ES UNA LLAVE PRIMARIA ?\n",
    "\n",
    "Es un identificador unico para cada fila de una tabla. Es utilizado para indexar los datos almacenados.\n",
    "\n",
    "¿QUE ES UNA LLAVE FORANEA ?\n",
    "\n",
    "Es una llave primaria que existe en una tabla diferente.\n",
    "Funciona para relacionar tablas entre si.\n",
    "\n",
    "\n",
    "\n",
    "\n"
   ]
  }
 ],
 "metadata": {
  "language_info": {
   "name": "python"
  }
 },
 "nbformat": 4,
 "nbformat_minor": 2
}
